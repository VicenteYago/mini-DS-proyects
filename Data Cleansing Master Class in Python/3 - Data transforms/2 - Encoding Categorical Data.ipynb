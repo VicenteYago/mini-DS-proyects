{
 "cells": [
  {
   "cell_type": "markdown",
   "id": "a33b35a9",
   "metadata": {},
   "source": [
    "# Encoding Categorical Data"
   ]
  },
  {
   "cell_type": "code",
   "execution_count": 10,
   "id": "36bd71f0",
   "metadata": {},
   "outputs": [],
   "source": [
    "import pandas as pd\n",
    "from sklearn.preprocessing import LabelEncoder\n",
    "from sklearn.preprocessing import OrdinalEncoder"
   ]
  },
  {
   "cell_type": "code",
   "execution_count": 8,
   "id": "e7fa4e0f",
   "metadata": {},
   "outputs": [
    {
     "name": "stdout",
     "output_type": "stream",
     "text": [
      "Input:  (286, 9)\n",
      "Output:  (286,)\n"
     ]
    }
   ],
   "source": [
    "# load the dataset\n",
    "dataset = pd.read_csv('../datasets/breast-cancer.csv', header=None)\n",
    "data = dataset.values\n",
    "\n",
    "# separate into input and output columns\n",
    "X = data[:, :-1].astype(str)\n",
    "y = data[:, -1].astype(str)\n",
    "\n",
    "print(\"Input: \", X.shape)\n",
    "print(\"Output: \", y.shape)"
   ]
  },
  {
   "cell_type": "markdown",
   "id": "09cb4b62",
   "metadata": {},
   "source": [
    "## Ordinal encoder"
   ]
  },
  {
   "cell_type": "code",
   "execution_count": 18,
   "id": "bde82546",
   "metadata": {},
   "outputs": [
    {
     "name": "stdout",
     "output_type": "stream",
     "text": [
      "[[0. 1. 2. ... 2. 0. 2.]\n",
      " [0. 2. 2. ... 1. 1. 5.]\n",
      " [0. 2. 2. ... 1. 0. 2.]\n",
      " ...\n",
      " [1. 4. 0. ... 0. 1. 3.]\n",
      " [1. 2. 0. ... 2. 0. 2.]\n",
      " [1. 3. 0. ... 2. 0. 2.]]\n",
      "[0 0 0 0 0 0 0 0 0 0 0 0 0 0 0 0 0 0 0 0 0 0 0 0 0 0 0 0 0 0 0 0 0 0 0 0 0\n",
      " 0 0 0 0 0 0 0 0 0 0 0 0 0 0 0 0 0 0 0 0 0 0 0 0 0 0 0 0 0 0 0 0 0 0 0 0 0\n",
      " 0 0 0 0 0 0 0 0 0 0 0 0 0 0 0 0 0 0 0 0 0 0 0 0 0 0 0 0 0 0 0 0 0 0 0 0 0\n",
      " 0 0 0 0 0 0 0 0 0 0 0 0 0 0 0 0 1 0 1 1 1 0 0 1 0 1 1 1 0 0 0 0 1 0 1 1 1\n",
      " 0 0 0 0 0 1 0 1 0 0 0 0 1 0 1 1 1 0 0 1 0 1 1 0 0 0 1 1 0 0 1 1 1 1 1 1 1\n",
      " 1 0 1 0 0 1 1 0 0 1 0 0 1 1 0 0 0 0 0 0 0 0 0 0 0 0 0 0 0 0 0 0 0 0 0 0 0\n",
      " 1 0 1 1 0 1 0 1 0 0 1 1 1 1 0 0 0 1 1 0 1 0 1 1 1 1 0 0 0 1 0 0 0 0 1 1 1\n",
      " 0 0 1 0 0 0 0 0 1 0 1 0 1 0 1 1 0 1 1 0 1 1 0 1 0 0 0]\n"
     ]
    }
   ],
   "source": [
    "# load the dataset\n",
    "dataset = pd.read_csv('../datasets/breast-cancer.csv', header=None)\n",
    "data = dataset.values\n",
    "\n",
    "# separate into input and output columns\n",
    "X = data[:, :-1].astype(str)\n",
    "y = data[:, -1].astype(str)\n",
    "\n",
    "ordinal_encoder = OrdinalEncoder()\n",
    "X = ordinal_encoder.fit_transform(X)\n",
    "label_encoder = LabelEncoder()\n",
    "y = label_encoder.fit_transform(y)\n",
    "\n",
    "print(X)\n",
    "print(y)"
   ]
  },
  {
   "cell_type": "markdown",
   "id": "1da4cbb0",
   "metadata": {},
   "source": [
    "## Evaluate Logistic regression on the breast dataset with an ordinal encoding"
   ]
  },
  {
   "cell_type": "code",
   "execution_count": 28,
   "id": "eece6b19",
   "metadata": {},
   "outputs": [
    {
     "name": "stdout",
     "output_type": "stream",
     "text": [
      "Input (286, 9)\n",
      "[['no-recurrence-events' '30-39' 'premeno' '30-34' '0-2' 'no' '3' 'left'\n",
      "  'left_low']\n",
      " ['no-recurrence-events' '40-49' 'premeno' '20-24' '0-2' 'no' '2' 'right'\n",
      "  'right_up']\n",
      " ['no-recurrence-events' '40-49' 'premeno' '20-24' '0-2' 'no' '2' 'left'\n",
      "  'left_low']\n",
      " ['no-recurrence-events' '60-69' 'ge40' '15-19' '0-2' 'no' '2' 'right'\n",
      "  'left_up']\n",
      " ['no-recurrence-events' '40-49' 'premeno' '0-4' '0-2' 'no' '2' 'right'\n",
      "  'right_low']]\n",
      "Output (286,)\n",
      "['no' 'no' 'no' 'no' 'no']\n"
     ]
    }
   ],
   "source": [
    "from sklearn.model_selection import train_test_split\n",
    "from sklearn.preprocessing import LabelEncoder\n",
    "from sklearn.preprocessing import OrdinalEncoder\n",
    "\n",
    "# load the dataset\n",
    "dataset = pd.read_csv('../datasets/breast-cancer.csv', header=None)\n",
    "data = dataset.values\n",
    "\n",
    "# separate into input and output columns\n",
    "X = data[:, :-1].astype(str)\n",
    "y = data[:, -1].astype(str)\n",
    "\n",
    "X_train, X_test, y_train, y_test = train_test_split(X, y, test_size = 0.33, random_state=1)\n",
    "\n",
    "# ordinal encode input variables\n",
    "ordinal_encoder = OrdinalEncoder(handle_unknown='use_encoded_value', unknown_value=100)\n",
    "ordinal_encoder.fit(X_train)\n",
    "X_train = ordinal_encoder.transform(X_train)\n",
    "X_test  = ordinal_encoder.transform(X_test)\n",
    "\n",
    "# ordinal encode output variables\n",
    "label_encoder = LabelEncoder()\n",
    "label_encoder.fit_transform(y)\n",
    "\n",
    "print('Input', X.shape)\n",
    "print(X[:5, :])\n",
    "print('Output', y.shape)\n",
    "print(y[:5])"
   ]
  }
 ],
 "metadata": {
  "kernelspec": {
   "display_name": "LSTM",
   "language": "python",
   "name": "lstm"
  },
  "language_info": {
   "codemirror_mode": {
    "name": "ipython",
    "version": 3
   },
   "file_extension": ".py",
   "mimetype": "text/x-python",
   "name": "python",
   "nbconvert_exporter": "python",
   "pygments_lexer": "ipython3",
   "version": "3.8.12"
  }
 },
 "nbformat": 4,
 "nbformat_minor": 5
}
