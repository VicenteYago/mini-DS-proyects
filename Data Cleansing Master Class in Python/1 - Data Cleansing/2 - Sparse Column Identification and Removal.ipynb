{
 "cells": [
  {
   "cell_type": "code",
   "execution_count": 2,
   "metadata": {},
   "outputs": [
    {
     "data": {
      "text/plain": [
       "array([[1.00000e+00, 2.55800e+03, 1.50609e+03, ..., 6.57400e+01,\n",
       "        7.95000e+00, 1.00000e+00],\n",
       "       [2.00000e+00, 2.23250e+04, 7.91100e+01, ..., 6.57300e+01,\n",
       "        6.26000e+00, 0.00000e+00],\n",
       "       [3.00000e+00, 1.15000e+02, 1.44985e+03, ..., 6.58100e+01,\n",
       "        7.84000e+00, 1.00000e+00],\n",
       "       ...,\n",
       "       [2.02000e+02, 1.40000e+01, 2.51400e+01, ..., 6.59100e+01,\n",
       "        6.12000e+00, 0.00000e+00],\n",
       "       [2.03000e+02, 1.00000e+01, 9.60000e+01, ..., 6.59700e+01,\n",
       "        6.32000e+00, 0.00000e+00],\n",
       "       [2.04000e+02, 1.10000e+01, 7.73000e+00, ..., 6.56500e+01,\n",
       "        6.26000e+00, 0.00000e+00]])"
      ]
     },
     "execution_count": 2,
     "metadata": {},
     "output_type": "execute_result"
    }
   ],
   "source": [
    "from numpy import loadtxt\n",
    "from numpy import unique\n",
    "\n",
    "data = loadtxt('oil-spill.csv', delimiter=',')\n",
    "data"
   ]
  },
  {
   "cell_type": "markdown",
   "metadata": {},
   "source": [
    "Oill spill dataset info : https://www.kaggle.com/ashrafkhan94/oil-spill"
   ]
  },
  {
   "cell_type": "code",
   "execution_count": 16,
   "metadata": {},
   "outputs": [
    {
     "data": {
      "text/plain": [
       "array([1506.09,   79.11, 1449.85, 1562.53,  950.27, 1438.13, 1446.29,\n",
       "         28.68,  964.23,  903.02, 1127.41, 1627.54, 1091.56, 1537.68,\n",
       "       1020.91, 1118.08, 1249.47, 1776.55, 1304.9 , 1700.15, 1533.91,\n",
       "       1761.3 , 1344.49, 1095.47, 1628.99, 1422.2 , 1608.04, 1501.49,\n",
       "       1579.09, 1732.7 , 1687.61, 1546.64, 1765.53, 1576.57, 1774.4 ,\n",
       "        874.62, 1705.68, 1664.47, 1748.69,  789.05, 1551.46, 1029.52,\n",
       "       1706.47, 1757.65, 1566.62,  780.77, 1420.22,  124.96,  902.43,\n",
       "       1557.99, 1573.27, 1690.45, 1636.26, 1688.79, 1749.56, 1042.43,\n",
       "        761.48, 1740.51, 1726.89, 1762.49, 1388.71, 1729.  , 1563.39,\n",
       "       1707.7 , 1742.82, 1615.63, 1501.54, 1223.48, 1698.65, 1294.7 ,\n",
       "       1153.32, 1485.98, 1608.88, 1506.37, 1645.07,  779.4 , 1563.17,\n",
       "       1713.1 , 1596.89,  762.26, 1601.62, 1096.68, 1545.03, 1668.24,\n",
       "        724.57, 1583.82, 1378.47, 1528.2 , 1547.12, 1756.95, 1714.19,\n",
       "       1693.53, 1260.7 , 1652.95,   23.64, 1338.75,  769.73, 1785.22,\n",
       "       1455.16, 1657.03, 1439.58,   62.01, 1171.12, 1582.84, 1770.45,\n",
       "       1647.32, 1391.75, 1229.13, 1401.25, 1732.82, 1626.17, 1586.95,\n",
       "       1375.38, 1578.33, 1023.97,  129.73,  780.74,  755.12, 1195.08,\n",
       "       1193.38, 1537.69, 1601.2 , 1417.16, 1182.16, 1489.67, 1693.78,\n",
       "       1789.13, 1592.45,  920.2 , 1639.58, 1127.05, 1752.89, 1784.95,\n",
       "       1606.14, 1697.23, 1439.18, 1733.3 , 1172.7 , 1607.52, 1623.44,\n",
       "       1621.06, 1702.82, 1596.73, 1687.6 , 1766.35, 1750.3 ,  111.84,\n",
       "       1658.12, 1646.05, 1588.9 ,  770.71, 1663.45, 1729.68,  991.4 ,\n",
       "       1619.3 ,  773.39, 1315.32, 1691.1 , 1175.38, 1531.03, 1594.45,\n",
       "       1611.15, 1010.06, 1524.24,  124.9 , 1705.19, 1666.21, 1706.17,\n",
       "       1487.21, 1672.73, 1696.45,  785.28, 1707.53, 1390.14, 1708.19,\n",
       "       1567.52, 1165.19, 1547.69, 1724.29, 1345.  , 1571.13,  712.76,\n",
       "       1605.1 , 1679.84, 1751.49, 1448.34, 1123.09, 1565.97, 1388.78,\n",
       "       1748.84, 1564.49, 1682.62, 1717.83, 1664.7 , 1574.55,  805.86,\n",
       "        798.03, 1107.45, 1041.09, 1203.39, 1232.9 ,  795.4 , 1021.34,\n",
       "       1280.2 , 1290.31, 1244.77, 1019.66,  852.49, 1152.89, 1059.49,\n",
       "       1139.46, 1159.69, 1141.27, 1048.59, 1351.19, 1119.23, 1225.75,\n",
       "        909.57,  923.82, 1279.58, 1064.12, 1016.17, 1236.71, 1125.92,\n",
       "       1261.36, 1062.21, 1133.71, 1238.74, 1161.09, 1010.7 , 1245.35,\n",
       "        881.82, 1126.53, 1289.87,  971.94, 1186.12, 1256.1 ,  979.18,\n",
       "       1107.74, 1311.73,  475.53,  938.69,  919.52, 1245.31, 1313.18,\n",
       "       1420.62,  508.12, 1341.72, 1333.13, 1264.54, 1080.89, 1007.46,\n",
       "       1111.45, 1126.26, 1272.77,  985.78, 1092.67,  973.9 , 1130.27,\n",
       "       1178.77, 1048.4 , 1398.91, 1191.43, 1139.91, 1339.81, 1140.05,\n",
       "       1893.08, 1083.69, 1385.89, 1298.11, 1139.7 , 1014.64, 1190.9 ,\n",
       "        906.41, 1208.61,  498.44, 1250.19, 1312.85, 1255.4 , 1186.07,\n",
       "       1292.48, 1100.44, 1321.42,  508.53, 1352.54,  475.5 , 1263.12,\n",
       "       1248.79, 1284.37, 1186.32, 1002.47, 1208.25, 1269.88,  474.53,\n",
       "       1307.12, 1020.29, 1117.59,  491.81, 1315.02,  855.69,  260.19,\n",
       "       1039.62,  970.45,  851.16, 1350.04,  956.77,  327.33, 1331.6 ,\n",
       "        935.14,  227.23,  969.44,  115.22, 1001.17, 1125.06, 1121.8 ,\n",
       "       1028.29, 1111.92,  845.47,  987.03,  858.5 ,  335.02,  881.92,\n",
       "        884.96, 1060.72,  879.47, 1169.77, 1036.3 , 1326.06, 1211.93,\n",
       "       1444.54,  961.52,  906.97, 1421.13, 1015.08,  914.44,  917.05,\n",
       "       1166.95,  944.56,  858.28,  976.36, 1424.86,  859.7 , 1426.96,\n",
       "        824.57, 1003.81,  924.32, 1407.87,  854.03, 1010.61, 1098.1 ,\n",
       "        916.34, 1202.19,  882.35,  948.43, 1166.82, 1031.77,  927.46,\n",
       "       1366.  ,  938.08, 1177.13, 1141.08,  886.84,  104.75, 1004.12,\n",
       "       1127.39,  921.47, 1208.68, 1001.27, 1093.35, 1191.95, 1403.3 ,\n",
       "        951.92, 1419.69, 1367.76, 1016.77,  879.04, 1140.13, 1155.16,\n",
       "        836.44,  988.77, 1027.77,  810.47, 1196.42, 1325.  ,  792.93,\n",
       "       1109.93, 1398.26, 1400.2 , 1348.28, 1041.89, 1413.71, 1438.31,\n",
       "       1138.88,  797.99,  982.38,  971.06, 1024.37, 1113.98, 1475.08,\n",
       "       1368.2 , 1320.64, 1469.75, 1030.63,  844.54,  944.16, 1355.46,\n",
       "       1038.87, 1505.49,  919.94,  827.05,  963.8 ,  821.42,  991.7 ,\n",
       "        839.88,  897.52, 1006.87,  993.85, 1060.33,  905.35, 1484.48,\n",
       "       1396.76,  900.46,  876.38, 1404.46,  884.87,  844.44, 1527.91,\n",
       "       1248.73, 1094.62, 1483.95, 1340.16, 1486.45, 1280.26,  990.73,\n",
       "        673.25,  874.99,  980.65, 1264.81,  537.93,  446.76,  273.61,\n",
       "       1055.46,  867.68,  239.32, 1195.39, 1240.75, 1274.1 , 1111.8 ,\n",
       "       1131.87, 1231.42,  221.79,  408.25, 1203.19, 1284.1 ,  757.9 ,\n",
       "        727.45,   79.17,  591.24,  995.46,  982.67, 1304.24,   18.71,\n",
       "       1289.51,  599.93, 1154.81,  689.54, 1213.38,  619.18,  904.13,\n",
       "       1253.85,  948.97, 1234.14,  305.15, 1260.22, 1202.42,  960.06,\n",
       "        809.93,  677.04,  685.07, 1039.84,  687.35,  949.89, 1052.26,\n",
       "        743.88,  736.14,  575.19, 1223.78,   44.3 ,   34.54,  458.15,\n",
       "       1243.52,  705.96, 1247.42, 1245.49,  689.57,  704.37,  530.87,\n",
       "        714.46,   49.15,  255.1 ,  147.17,  299.61,   34.54,   52.04,\n",
       "        581.15,  942.05,   64.49,  421.09,  977.23,  955.76, 1260.77,\n",
       "        256.73,  635.24,  222.02,  224.38,  262.69,  115.46,  646.26,\n",
       "       1263.58,   18.93,  510.33,  211.51,   86.91,  478.32,  665.43,\n",
       "        324.22, 1023.16,   32.31,  465.77,  678.73,  604.2 ,   72.24,\n",
       "         11.49,   59.12,  279.57,  375.24,  484.66,  228.79,  883.15,\n",
       "        511.22,   80.08,  112.19,  998.85,   54.06,  561.97,  318.13,\n",
       "        665.13,  497.9 ,  320.78, 1020.17,  254.7 ,  135.22,   46.89,\n",
       "        322.93,  959.1 ,  292.41, 1053.35, 1253.2 , 1054.  ,  226.62,\n",
       "        867.9 ,  566.78,  198.74,  250.77, 1052.3 ,  639.06,  320.75,\n",
       "        241.4 ,  680.7 ,  343.63,  404.48,  361.68,  264.28,  322.81,\n",
       "         19.71,   69.52,   34.2 ,  130.46,   56.31,   21.23,  450.55,\n",
       "          6.08,  266.33,   85.26,   12.18,  471.21,  264.94,   59.83,\n",
       "         32.96,  237.88,  100.26,    6.84,   22.  ,  192.34,   35.14,\n",
       "         30.26,  278.06,  112.12,  266.52,  284.64,    5.83,  122.83,\n",
       "         16.  ,  257.33,   84.36,   70.29,  135.14,   41.19,  189.5 ,\n",
       "         23.11,  160.24,  270.58,  151.03,  141.88,  309.  ,   10.21,\n",
       "        108.83,   27.25,  123.4 ,   27.9 ,    3.4 ,  248.55,   54.62,\n",
       "         19.33,   22.91,    3.  ,   65.5 ,  154.64,   49.27,   25.62,\n",
       "         44.83,   46.09,  110.14,   47.64,   76.5 ,  356.25,  147.45,\n",
       "        115.63,   23.2 ,  226.8 ,  106.4 ,   33.62,   65.  ,   22.69,\n",
       "        145.27,   25.1 ,  144.92,    9.15,  441.43,  165.49,  474.38,\n",
       "        593.33,   13.3 ,  118.76,  134.06,   15.12,   71.06,   92.94,\n",
       "        404.31,  454.66,   77.4 ,   38.33,   30.55,   15.72,    7.7 ,\n",
       "        151.3 ,  343.  ,  144.84,  112.12,    8.37,  146.31,   83.12,\n",
       "        334.39,    3.77,    7.7 ,  122.65,   74.66,  653.7 ,  149.8 ,\n",
       "         45.94,  110.18,   52.92,  108.15,   99.26,   22.18,   32.47,\n",
       "         22.  ,   45.17,   74.38,   42.56,  445.21,   43.68,  133.91,\n",
       "        153.39,  118.31,   89.92,   41.86,  582.67,  176.96,   22.11,\n",
       "          3.69,   12.79,  159.07,  122.  ,   99.27,   44.27,   97.58,\n",
       "        534.35,  133.64,   19.91,  114.2 ,   33.5 ,  153.81,    4.5 ,\n",
       "          7.85,   11.38,   25.44,  124.  ,   60.  ,   18.14,  220.75,\n",
       "         60.08,  126.7 ,   30.8 ,  167.45,  147.5 ,   31.63,  133.64,\n",
       "         47.2 ,   13.33,   44.82,    3.93,   11.8 ,   13.03,  386.31,\n",
       "         13.16,   43.89,    4.49,  263.09,   31.03,   59.37,   79.84,\n",
       "         12.48,   14.12,  120.26,   74.62,    7.25,  388.03,   31.23,\n",
       "         16.7 ,   43.62,   56.3 ,   22.42,  121.65,   72.  ,  231.84,\n",
       "        162.52,   78.11,  102.05,  101.5 ,   57.  ,   40.95,   98.04,\n",
       "         42.18,   20.19,  131.45,   41.81,    5.7 ,   49.05,   60.67,\n",
       "         64.45,   45.78,   34.69,    2.23,   65.68,    8.59,   87.89,\n",
       "         55.64,    3.06,  226.81,   85.38,   11.74,   80.33,   45.73,\n",
       "         51.05,   83.21,  111.5 ,   43.56,   13.06,  168.31,   97.37,\n",
       "         39.15,   28.95,   37.  ,   25.16,   14.25,   18.25,   56.33,\n",
       "        102.91,   31.92,   24.69,   25.69,   27.3 ,   11.93,    1.95,\n",
       "         92.86,   39.12,   89.67,   19.  ,  160.77,  118.31,   76.3 ,\n",
       "         73.3 ,   57.5 ,   53.19,    3.  ,  171.56,   18.25,   54.58,\n",
       "         98.  ,   84.53,  108.53,   83.45,  136.57,   35.05,  131.17,\n",
       "         41.79,   77.  ,   97.15,   21.85,    4.72,  169.1 ,   72.5 ,\n",
       "         54.05,  116.27,    4.49,   49.37,   24.92,  160.78,   13.1 ,\n",
       "        223.58,   90.25,   63.56,    3.73,   18.21,  232.08,   10.69,\n",
       "        182.07,  117.94,   30.73,   34.36,   66.  ,   85.9 ,   51.33,\n",
       "        141.86,  116.33,   18.12,  389.76,   17.5 ,   24.07,   80.87,\n",
       "         30.08,   48.  ,   88.92,   85.27,   45.86,   22.84,    3.82,\n",
       "         18.1 ,  161.33,   44.67,   37.57,  369.85,   52.7 ,    6.19,\n",
       "         67.67,    9.73,   28.78,   21.67,   80.8 ,   61.55,  147.88,\n",
       "         91.92,  152.8 ,   36.05,   46.08,  182.5 ,  118.55,   31.93,\n",
       "        138.55,  120.82,   40.  ,   42.3 ,   65.33,  121.82,   36.2 ,\n",
       "         30.  ,    1.92,  188.5 ,  123.5 ,    2.1 ,  106.92,   26.5 ,\n",
       "        112.44,   20.17,   11.83,   94.08,   26.5 ,  105.8 ,  213.  ,\n",
       "        102.09,  349.  ,   79.09,  233.09,  162.  ,  353.  ,  174.3 ,\n",
       "         59.5 ,   74.  ,    5.25,  180.2 ,    3.5 ,  121.42,   92.5 ,\n",
       "         35.29,  127.25,   10.64,  147.1 ,   71.33,   26.  ,  113.64,\n",
       "         30.83,   92.42,   98.82,   25.14,   96.  ,    7.73])"
      ]
     },
     "execution_count": 16,
     "metadata": {},
     "output_type": "execute_result"
    }
   ],
   "source": [
    "data[:,2]"
   ]
  },
  {
   "cell_type": "code",
   "execution_count": 3,
   "metadata": {},
   "outputs": [
    {
     "name": "stdout",
     "output_type": "stream",
     "text": [
      "0 238\n",
      "1 297\n",
      "2 927\n",
      "3 933\n",
      "4 179\n",
      "5 375\n",
      "6 820\n",
      "7 618\n",
      "8 561\n",
      "9 57\n",
      "10 577\n",
      "11 59\n",
      "12 73\n",
      "13 107\n",
      "14 53\n",
      "15 91\n",
      "16 893\n",
      "17 810\n",
      "18 170\n",
      "19 53\n",
      "20 68\n",
      "21 9\n",
      "22 1\n",
      "23 92\n",
      "24 9\n",
      "25 8\n",
      "26 9\n",
      "27 308\n",
      "28 447\n",
      "29 392\n",
      "30 107\n",
      "31 42\n",
      "32 4\n",
      "33 45\n",
      "34 141\n",
      "35 110\n",
      "36 3\n",
      "37 758\n",
      "38 9\n",
      "39 9\n",
      "40 388\n",
      "41 220\n",
      "42 644\n",
      "43 649\n",
      "44 499\n",
      "45 2\n",
      "46 937\n",
      "47 169\n",
      "48 286\n",
      "49 2\n"
     ]
    }
   ],
   "source": [
    "# summarize the number of unique values in each column\n",
    "for i in range(data.shape[1]):\n",
    "\tprint(i, len(unique(data[:, i])))"
   ]
  },
  {
   "cell_type": "markdown",
   "metadata": {},
   "source": [
    "Columns with single value, do not provide information for modelling. For example column 22 only have 1 value."
   ]
  },
  {
   "cell_type": "markdown",
   "metadata": {},
   "source": [
    "The following code returns the same output than the previous one, but in a more concise way:"
   ]
  },
  {
   "cell_type": "code",
   "execution_count": 4,
   "metadata": {},
   "outputs": [
    {
     "name": "stdout",
     "output_type": "stream",
     "text": [
      "0     238\n",
      "1     297\n",
      "2     927\n",
      "3     933\n",
      "4     179\n",
      "5     375\n",
      "6     820\n",
      "7     618\n",
      "8     561\n",
      "9      57\n",
      "10    577\n",
      "11     59\n",
      "12     73\n",
      "13    107\n",
      "14     53\n",
      "15     91\n",
      "16    893\n",
      "17    810\n",
      "18    170\n",
      "19     53\n",
      "20     68\n",
      "21      9\n",
      "22      1\n",
      "23     92\n",
      "24      9\n",
      "25      8\n",
      "26      9\n",
      "27    308\n",
      "28    447\n",
      "29    392\n",
      "30    107\n",
      "31     42\n",
      "32      4\n",
      "33     45\n",
      "34    141\n",
      "35    110\n",
      "36      3\n",
      "37    758\n",
      "38      9\n",
      "39      9\n",
      "40    388\n",
      "41    220\n",
      "42    644\n",
      "43    649\n",
      "44    499\n",
      "45      2\n",
      "46    937\n",
      "47    169\n",
      "48    286\n",
      "49      2\n",
      "dtype: int64\n"
     ]
    }
   ],
   "source": [
    "from pandas import read_csv\n",
    "df = read_csv('oil-spill.csv', header=None)\n",
    "print(df.nunique())"
   ]
  },
  {
   "cell_type": "code",
   "execution_count": 3,
   "metadata": {},
   "outputs": [
    {
     "name": "stdout",
     "output_type": "stream",
     "text": [
      "(937, 50)\n",
      "[22]\n",
      "(937, 49)\n"
     ]
    }
   ],
   "source": [
    "from pandas import read_csv\n",
    "# load the dataset\n",
    "df = read_csv('oil-spill.csv', header=None)\n",
    "print(df.shape)\n",
    "# get number of unique values for each column\n",
    "counts = df.nunique()\n",
    "# record columns to delete\n",
    "to_del = [i for i,v in enumerate(counts) if v == 1]\n",
    "print(to_del)\n",
    "# drop useless columns\n",
    "df.drop(to_del, axis=1, inplace=True)\n",
    "print(df.shape)"
   ]
  },
  {
   "cell_type": "markdown",
   "metadata": {},
   "source": [
    "Column 22 was removed and the shape of the dataframe shrinks accordingly."
   ]
  },
  {
   "cell_type": "code",
   "execution_count": 9,
   "metadata": {},
   "outputs": [
    {
     "name": "stdout",
     "output_type": "stream",
     "text": [
      "0, 238, 25.4%\n",
      "1, 297, 31.7%\n",
      "2, 927, 98.9%\n",
      "3, 933, 99.6%\n",
      "4, 179, 19.1%\n",
      "5, 375, 40.0%\n",
      "6, 820, 87.5%\n",
      "7, 618, 66.0%\n",
      "8, 561, 59.9%\n",
      "9, 57, 6.1%\n",
      "10, 577, 61.6%\n",
      "11, 59, 6.3%\n",
      "12, 73, 7.8%\n",
      "13, 107, 11.4%\n",
      "14, 53, 5.7%\n",
      "15, 91, 9.7%\n",
      "16, 893, 95.3%\n",
      "17, 810, 86.4%\n",
      "18, 170, 18.1%\n",
      "19, 53, 5.7%\n",
      "20, 68, 7.3%\n",
      "21, 9, 1.0%\n",
      "22, 1, 0.1%\n",
      "23, 92, 9.8%\n",
      "24, 9, 1.0%\n",
      "25, 8, 0.9%\n",
      "26, 9, 1.0%\n",
      "27, 308, 32.9%\n",
      "28, 447, 47.7%\n",
      "29, 392, 41.8%\n",
      "30, 107, 11.4%\n",
      "31, 42, 4.5%\n",
      "32, 4, 0.4%\n",
      "33, 45, 4.8%\n",
      "34, 141, 15.0%\n",
      "35, 110, 11.7%\n",
      "36, 3, 0.3%\n",
      "37, 758, 80.9%\n",
      "38, 9, 1.0%\n",
      "39, 9, 1.0%\n",
      "40, 388, 41.4%\n",
      "41, 220, 23.5%\n",
      "42, 644, 68.7%\n",
      "43, 649, 69.3%\n",
      "44, 499, 53.3%\n",
      "45, 2, 0.2%\n",
      "46, 937, 100.0%\n",
      "47, 169, 18.0%\n",
      "48, 286, 30.5%\n",
      "49, 2, 0.2%\n"
     ]
    }
   ],
   "source": [
    "# summarize the percentage of unique values for each column using numpy\n",
    "from numpy import loadtxt\n",
    "from numpy import unique\n",
    "\n",
    "data = loadtxt('oil-spill.csv', delimiter=',')\n",
    "# summarize the number of unique values in each column\n",
    "for i in range(data.shape[1]):\n",
    "\tnum = len(unique(data[:, i]))\n",
    "\tpercentage = float(num) / data.shape[0] * 100\n",
    "\tprint('%d, %d, %.1f%%' % (i, num, percentage))"
   ]
  },
  {
   "cell_type": "markdown",
   "metadata": {},
   "source": [
    "The previous chunk reveals some variables with **near zero variance**, this columns may or may not contribute to predictive power of the model. This variables can result in errors in some models"
   ]
  },
  {
   "cell_type": "code",
   "execution_count": 5,
   "metadata": {},
   "outputs": [
    {
     "name": "stdout",
     "output_type": "stream",
     "text": [
      "21, 9, 1.0%\n",
      "22, 1, 0.1%\n",
      "24, 9, 1.0%\n",
      "25, 8, 0.9%\n",
      "26, 9, 1.0%\n",
      "32, 4, 0.4%\n",
      "36, 3, 0.3%\n",
      "38, 9, 1.0%\n",
      "39, 9, 1.0%\n",
      "45, 2, 0.2%\n",
      "49, 2, 0.2%\n"
     ]
    }
   ],
   "source": [
    "# summarize the percentage of unique values for each column using numpy\n",
    "from numpy import loadtxt\n",
    "from numpy import unique\n",
    "# load the dataset\n",
    "data = loadtxt('oil-spill.csv', delimiter=',')\n",
    "# summarize the number of unique values in each column\n",
    "for i in range(data.shape[1]):\n",
    "\tnum = len(unique(data[:, i]))\n",
    "\tpercentage = float(num) / data.shape[0] * 100\n",
    "\tif percentage < 1:\n",
    "\t\tprint('%d, %d, %.1f%%' % (i, num, percentage))"
   ]
  },
  {
   "cell_type": "markdown",
   "metadata": {},
   "source": [
    "11 variables have < 1% of unique values. This does not mean this variables should be deleted but we shoud pay attention to these."
   ]
  },
  {
   "cell_type": "code",
   "execution_count": 6,
   "metadata": {},
   "outputs": [
    {
     "name": "stdout",
     "output_type": "stream",
     "text": [
      "(937, 50)\n",
      "[21, 22, 24, 25, 26, 32, 36, 38, 39, 45, 49]\n",
      "(937, 39)\n"
     ]
    }
   ],
   "source": [
    "# delete columns where number of unique values is less than 1% of the rows\n",
    "from pandas import read_csv\n",
    "# load the dataset\n",
    "df = read_csv('oil-spill.csv', header=None)\n",
    "print(df.shape)\n",
    "# get number of unique values for each column\n",
    "counts = df.nunique()\n",
    "# record columns to delete\n",
    "to_del = [i for i,v in enumerate(counts) if (float(v)/df.shape[0]*100) < 1]\n",
    "print(to_del)\n",
    "# drop useless columns\n",
    "df.drop(to_del, axis=1, inplace=True)\n",
    "print(df.shape)"
   ]
  },
  {
   "cell_type": "markdown",
   "metadata": {},
   "source": [
    "Alternative way for remove low variance predictors from sklearn"
   ]
  },
  {
   "cell_type": "code",
   "execution_count": 10,
   "metadata": {},
   "outputs": [
    {
     "name": "stdout",
     "output_type": "stream",
     "text": [
      "(937, 49) (937,)\n",
      "(937, 48)\n"
     ]
    }
   ],
   "source": [
    "# example of applying the variance threshold for feature selection\n",
    "from pandas import read_csv\n",
    "from sklearn.feature_selection import VarianceThreshold\n",
    "\n",
    "# load the dataset\n",
    "df = read_csv('oil-spill.csv', header=None)\n",
    "\n",
    "# split data into inputs and outputs\n",
    "data = df.values\n",
    "X = data[:, :-1]\n",
    "y = data[:, -1] # last column\n",
    "print(X.shape, y.shape)\n",
    "\n",
    "# define the transform\n",
    "transform = VarianceThreshold() # defaults to 0\n",
    "\n",
    "# transform the input data\n",
    "X_sel = transform.fit_transform(X)\n",
    "print(X_sel.shape)"
   ]
  },
  {
   "cell_type": "markdown",
   "metadata": {},
   "source": [
    "Defining several thresholds: "
   ]
  },
  {
   "cell_type": "code",
   "execution_count": 21,
   "metadata": {},
   "outputs": [
    {
     "name": "stdout",
     "output_type": "stream",
     "text": [
      "(937, 49) (937,)\n",
      ">Threshold=0.00, Features=48\n",
      ">Threshold=0.05, Features=37\n",
      ">Threshold=0.10, Features=36\n",
      ">Threshold=0.15, Features=35\n",
      ">Threshold=0.20, Features=35\n",
      ">Threshold=0.25, Features=35\n",
      ">Threshold=0.30, Features=35\n",
      ">Threshold=0.35, Features=35\n",
      ">Threshold=0.40, Features=35\n",
      ">Threshold=0.45, Features=33\n",
      ">Threshold=0.50, Features=31\n"
     ]
    },
    {
     "data": {
      "image/png": "[encoded data removed]",
      "text/plain": [
       "<Figure size 432x288 with 1 Axes>"
      ]
     },
     "metadata": {
      "needs_background": "light"
     },
     "output_type": "display_data"
    }
   ],
   "source": [
    "from numpy import arange\n",
    "from pandas import read_csv\n",
    "from sklearn.feature_selection import VarianceThreshold\n",
    "from matplotlib import pyplot\n",
    "\n",
    "df = read_csv('oil-spill.csv', header=None)\n",
    "# split data into inputs and outputs\n",
    "data = df.values\n",
    "X = data[:, :-1]\n",
    "y = data[:, -1]\n",
    "print(X.shape, y.shape)\n",
    "# define thresholds to check\n",
    "thresholds = arange(0.0, 0.55, 0.05)\n",
    "# apply transform with each threshold\n",
    "results = list()\n",
    "for t in thresholds:\n",
    "\t# define the transform\n",
    "\ttransform = VarianceThreshold(threshold=t)\n",
    "\t# transform the input data\n",
    "\tX_sel = transform.fit_transform(X)\n",
    "\t# determine the number of input features\n",
    "\tn_features = X_sel.shape[1]\n",
    "\tprint('>Threshold=%.2f, Features=%d' % (t, n_features))\n",
    "\t# store the result\n",
    "\tresults.append(n_features)\n",
    "# plot the threshold vs the number of selected features\n",
    "pyplot.plot(thresholds, results)\n",
    "pyplot.title(\"Nº of features based on Variance theshold values\")\n",
    "pyplot.show()"
   ]
  }
 ],
 "metadata": {
  "kernelspec": {
   "display_name": "Python 3 (ipykernel)",
   "language": "python",
   "name": "python3"
  },
  "language_info": {
   "codemirror_mode": {
    "name": "ipython",
    "version": 3
   },
   "file_extension": ".py",
   "mimetype": "text/x-python",
   "name": "python",
   "nbconvert_exporter": "python",
   "pygments_lexer": "ipython3",
   "version": "3.8.12"
  }
 },
 "nbformat": 4,
 "nbformat_minor": 2
}
