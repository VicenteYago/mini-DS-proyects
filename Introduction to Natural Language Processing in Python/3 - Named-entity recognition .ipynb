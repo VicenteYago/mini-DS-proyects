{
 "cells": [
  {
   "cell_type": "markdown",
   "id": "f1707dad",
   "metadata": {},
   "source": [
    "# 3 - Named-entity recognition "
   ]
  },
  {
   "cell_type": "markdown",
   "id": "55c5d3cd",
   "metadata": {},
   "source": [
    "This chapter will introduce a slightly more advanced topic: named-entity recognition. You'll learn how to identify the who, what, and where of your texts using pre-trained models on English and non-English text. You'll also learn how to use some new libraries, polyglot and spaCy, to add to your NLP toolbox.\n",
    "\n"
   ]
  },
  {
   "cell_type": "markdown",
   "id": "5957bc78",
   "metadata": {},
   "source": [
    "## Named Entity Recognition"
   ]
  },
  {
   "cell_type": "markdown",
   "id": "277f049e",
   "metadata": {},
   "source": [
    "## Introduction to SpaCy"
   ]
  },
  {
   "cell_type": "markdown",
   "id": "a27ced89",
   "metadata": {},
   "source": [
    "## Multilingual NER with polyplot"
   ]
  }
 ],
 "metadata": {
  "kernelspec": {
   "display_name": "NLP",
   "language": "python",
   "name": "nlp"
  },
  "language_info": {
   "codemirror_mode": {
    "name": "ipython",
    "version": 3
   },
   "file_extension": ".py",
   "mimetype": "text/x-python",
   "name": "python",
   "nbconvert_exporter": "python",
   "pygments_lexer": "ipython3",
   "version": "3.8.13"
  }
 },
 "nbformat": 4,
 "nbformat_minor": 5
}
