{
 "cells": [
  {
   "cell_type": "markdown",
   "id": "9a4bd27a",
   "metadata": {},
   "source": [
    "# 4 - Building a \"fake news\" classifier"
   ]
  },
  {
   "cell_type": "markdown",
   "id": "90a337f7",
   "metadata": {},
   "source": [
    "## Classifying fake news using supervised learning with NLP"
   ]
  },
  {
   "cell_type": "markdown",
   "id": "285a035f",
   "metadata": {},
   "source": [
    "## Building word count vectors with scikit-learn\n"
   ]
  },
  {
   "cell_type": "markdown",
   "id": "5c6340ca",
   "metadata": {},
   "source": [
    "## Training and testing a classification model with scikit-learn"
   ]
  },
  {
   "cell_type": "markdown",
   "id": "c7f03912",
   "metadata": {},
   "source": [
    "## Simple NLP, complex problems"
   ]
  }
 ],
 "metadata": {
  "kernelspec": {
   "display_name": "Python 3 (ipykernel)",
   "language": "python",
   "name": "python3"
  },
  "language_info": {
   "codemirror_mode": {
    "name": "ipython",
    "version": 3
   },
   "file_extension": ".py",
   "mimetype": "text/x-python",
   "name": "python",
   "nbconvert_exporter": "python",
   "pygments_lexer": "ipython3",
   "version": "3.8.12"
  }
 },
 "nbformat": 4,
 "nbformat_minor": 5
}
