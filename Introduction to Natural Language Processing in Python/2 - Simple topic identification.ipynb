{
 "cells": [
  {
   "cell_type": "markdown",
   "id": "04687c1a",
   "metadata": {},
   "source": [
    "# 2 - Simple topic identification"
   ]
  },
  {
   "cell_type": "markdown",
   "id": "8df2d9af",
   "metadata": {},
   "source": [
    "This chapter will introduce you to topic identification, which you can apply to any text you encounter in the wild. Using basic NLP models, you will identify topics from texts based on term frequencies. You'll experiment and compare two simple methods: bag-of-words and Tf-idf using NLTK, and a new library Gensim."
   ]
  }
 ],
 "metadata": {
  "kernelspec": {
   "display_name": "NLP",
   "language": "python",
   "name": "nlp"
  },
  "language_info": {
   "codemirror_mode": {
    "name": "ipython",
    "version": 3
   },
   "file_extension": ".py",
   "mimetype": "text/x-python",
   "name": "python",
   "nbconvert_exporter": "python",
   "pygments_lexer": "ipython3",
   "version": "3.8.13"
  }
 },
 "nbformat": 4,
 "nbformat_minor": 5
}
